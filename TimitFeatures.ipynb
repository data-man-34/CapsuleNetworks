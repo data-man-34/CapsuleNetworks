{
 "cells": [
  {
   "cell_type": "code",
   "execution_count": null,
   "metadata": {},
   "outputs": [],
   "source": [
    "import os\n",
    "import glob\n",
    "import numpy as np\n",
    "import matplotlib.pyplot as plt\n",
    "import soundfile as sf\n",
    "import IPython\n",
    "import h5py\n",
    "import decimal\n",
    "import math\n",
    "import logging\n",
    "# from scipy.fftpack import dct"
   ]
  },
  {
   "cell_type": "code",
   "execution_count": 2,
   "metadata": {},
   "outputs": [],
   "source": [
    "from sputils import sigproc as sp\n",
    "from sputils import phonedict as phd  # 45 phonemes\n",
    "# from sputils import phonedictRED as phd  # for reduced phoneme set (38 phonemes) "
   ]
  },
  {
   "cell_type": "code",
   "execution_count": 3,
   "metadata": {},
   "outputs": [],
   "source": [
    "dirTrainData = \"./TRAINMod\"  # the directory of TIMIT train files (.WAV and .PHN)\n",
    "dirTestData = \"./TESTMod\"  # the directory of TIMIT test files "
   ]
  },
  {
   "cell_type": "code",
   "execution_count": 4,
   "metadata": {},
   "outputs": [
    {
     "data": {
      "text/plain": [
       "3696"
      ]
     },
     "execution_count": 4,
     "metadata": {},
     "output_type": "execute_result"
    }
   ],
   "source": [
    "trainfiles = []\n",
    "for filename in glob.glob(dirTrainData+'/**/*.WAV', recursive=True):\n",
    "    if filename[-6]!='A': trainfiles.append(filename)  # omit dialects\n",
    "len(trainfiles)"
   ]
  },
  {
   "cell_type": "code",
   "execution_count": 5,
   "metadata": {},
   "outputs": [
    {
     "data": {
      "text/plain": [
       "1344"
      ]
     },
     "execution_count": 5,
     "metadata": {},
     "output_type": "execute_result"
    }
   ],
   "source": [
    "testfiles = []\n",
    "for filename in glob.glob(dirTestData+'/**/*.WAV', recursive=True):\n",
    "    if filename[-6]!='A': testfiles.append(filename)\n",
    "len(testfiles)"
   ]
  },
  {
   "cell_type": "code",
   "execution_count": 6,
   "metadata": {},
   "outputs": [],
   "source": [
    "def getCenters(start,step,Nframes):  # calculate frame center samples for each wimdow\n",
    "    centers = []\n",
    "    for i in range(Nframes):\n",
    "        frameCenter = start + i*step\n",
    "        centers.append(frameCenter)\n",
    "    return centers"
   ]
  },
  {
   "cell_type": "code",
   "execution_count": 7,
   "metadata": {},
   "outputs": [],
   "source": [
    "def readPhoneInfo(fl):  # get the labels for all samples\n",
    "    flnamePHN=fl[:-3]+\"PHN\"\n",
    "    flPHN = open(flnamePHN,\"r\")\n",
    "    contents = flPHN.readlines()\n",
    "    flPHN.close()\n",
    "    return contents"
   ]
  },
  {
   "cell_type": "code",
   "execution_count": 8,
   "metadata": {},
   "outputs": [],
   "source": [
    "def mapPhone(phon):  # code labelled phonemes numerically according to the dictionary\n",
    "    if phon[-1].isdigit(): phon=phon[:-2]\n",
    "    return phd.phn2int.get(phon, phd._pau)"
   ]
  },
  {
   "cell_type": "code",
   "execution_count": 9,
   "metadata": {},
   "outputs": [],
   "source": [
    "def getPhoneTimes(contents):  # get the end sample number for each phoneme\n",
    "    pts = {}\n",
    "    i = 0\n",
    "    for line in contents:\n",
    "        lin = line.strip().split()\n",
    "        phoneme = mapPhone(lin[2])    \n",
    "        pts[i] =  (int(lin[1]),phoneme)\n",
    "        i+=1\n",
    "    return pts"
   ]
  },
  {
   "cell_type": "code",
   "execution_count": 10,
   "metadata": {},
   "outputs": [],
   "source": [
    "def labelFrames(centers,pts):  # extract the labels corresponding to the window-center samples\n",
    "    frameLabels = {}\n",
    "    jmax = len(pts)-1\n",
    "    j=0\n",
    "    for i in range(len(centers)):\n",
    "        if centers[i] > pts[j][0]:\n",
    "             if j<jmax: j+=1\n",
    "        frameLabels[i]=pts[j][1]\n",
    "    return frameLabels  "
   ]
  },
  {
   "cell_type": "code",
   "execution_count": 11,
   "metadata": {},
   "outputs": [],
   "source": [
    "def getPhoneMids(frameLabels):  # find the middle frame within each phoneme duration\n",
    "    ich = []\n",
    "    mids = []\n",
    "    for i in range(2,Nf):\n",
    "        if frameLabels[i]!=frameLabels[i-1]: ich.append(i)\n",
    "    for i in range(len(ich)-1):\n",
    "        mid = (ich[i+1]+ich[i])//2\n",
    "        mids.append(mid)\n",
    "    return mids"
   ]
  },
  {
   "cell_type": "code",
   "execution_count": 12,
   "metadata": {},
   "outputs": [],
   "source": [
    "lenPic = 14  # even, deliberately two middle values: mid-1 and mid\n",
    "mid = (lenPic)//2"
   ]
  },
  {
   "cell_type": "code",
   "execution_count": 13,
   "metadata": {},
   "outputs": [
    {
     "data": {
      "text/plain": [
       "7"
      ]
     },
     "execution_count": 13,
     "metadata": {},
     "output_type": "execute_result"
    }
   ],
   "source": [
    "mid"
   ]
  },
  {
   "cell_type": "code",
   "execution_count": 14,
   "metadata": {},
   "outputs": [],
   "source": [
    "imagesTrn = []\n",
    "labelsTrn = []\n",
    "imagesTst = []\n",
    "labelsTst = []"
   ]
  },
  {
   "cell_type": "code",
   "execution_count": 15,
   "metadata": {},
   "outputs": [],
   "source": [
    "for fl in trainfiles:\n",
    "    # print(fl+\"\\n\")\n",
    "    speech, Fs = sf.read(fl)\n",
    "    Ns = np.shape(speech)[0]\n",
    "    step = int(0.01*Fs)\n",
    "    start = int((0.025/2)*Fs)\n",
    "    fbank = sp.logfbank(speech,samplerate=Fs,winlen=0.025,winstep=0.01,\n",
    "          nfilt=40,nfft=512,lowfreq=0,highfreq=None,preemph=0.96)  # 40 filters\n",
    "    Nf = np.shape(fbank)[0]\n",
    "    \n",
    "    centers = getCenters(start,step,Nf)\n",
    "    \n",
    "    phoneInfo = readPhoneInfo(fl)\n",
    "    \n",
    "    phoneTimes = getPhoneTimes(phoneInfo)\n",
    "    \n",
    "    frameLabels = labelFrames(centers,phoneTimes)\n",
    "    \n",
    "    phoneMids = getPhoneMids(frameLabels) \n",
    "    \n",
    "    for pm in phoneMids:\n",
    "        fbnk = fbank[pm-mid:pm+mid]\n",
    "        if np.shape(fbnk) == (14,40):\n",
    "            imagesTrn.append(fbank[pm-mid:pm+mid])\n",
    "            labelsTrn.append(frameLabels[pm])"
   ]
  },
  {
   "cell_type": "code",
   "execution_count": 16,
   "metadata": {},
   "outputs": [],
   "source": [
    "for fl in testfiles:\n",
    "    # print(fl+\"\\n\")\n",
    "    speech, Fs = sf.read(fl)\n",
    "    Ns = np.shape(speech)[0]\n",
    "    step = int(0.01*Fs)\n",
    "    start = int((0.025/2)*Fs)\n",
    "    fbank = sp.logfbank(speech,samplerate=Fs,winlen=0.025,winstep=0.01,\n",
    "          nfilt=40,nfft=512,lowfreq=0,highfreq=None,preemph=0.96)  # 40 filters\n",
    "    Nf = np.shape(fbank)[0]\n",
    "    \n",
    "    centers = getCenters(start,step,Nf)\n",
    "    \n",
    "    phoneInfo = readPhoneInfo(fl)\n",
    "    \n",
    "    phoneTimes = getPhoneTimes(phoneInfo)\n",
    "    \n",
    "    frameLabels = labelFrames(centers,phoneTimes)\n",
    "    \n",
    "    phoneMids = getPhoneMids(frameLabels) \n",
    "    \n",
    "    for pm in phoneMids:\n",
    "        fbnk = fbank[pm-mid:pm+mid]\n",
    "        if np.shape(fbnk) == (14,40):\n",
    "            imagesTst.append(fbank[pm-mid:pm+mid])\n",
    "            labelsTst.append(frameLabels[pm])"
   ]
  },
  {
   "cell_type": "code",
   "execution_count": 25,
   "metadata": {},
   "outputs": [
    {
     "data": {
      "image/png": "[encoded data removed]",
      "text/plain": [
       "<matplotlib.figure.Figure at 0x7f1d840a4ac8>"
      ]
     },
     "metadata": {},
     "output_type": "display_data"
    }
   ],
   "source": [
    "plt.imshow(imagesTrn[1], interpolation=\"nearest\", origin=\"lower\")\n",
    "plt.title('log mel filterbank features (fbank)')\n",
    "plt.show()"
   ]
  },
  {
   "cell_type": "code",
   "execution_count": 26,
   "metadata": {},
   "outputs": [
    {
     "data": {
      "image/png": "[encoded data removed]",
      "text/plain": [
       "<matplotlib.figure.Figure at 0x7f1d840b40b8>"
      ]
     },
     "metadata": {},
     "output_type": "display_data"
    }
   ],
   "source": [
    "plt.imshow(imagesTrn[2], interpolation=\"nearest\")\n",
    "plt.title('log mel filterbank features (fbank)')\n",
    "plt.show()"
   ]
  },
  {
   "cell_type": "code",
   "execution_count": 27,
   "metadata": {},
   "outputs": [
    {
     "data": {
      "text/plain": [
       "(121583, 14, 40)"
      ]
     },
     "execution_count": 27,
     "metadata": {},
     "output_type": "execute_result"
    }
   ],
   "source": [
    "np.shape(imagesTrn)"
   ]
  },
  {
   "cell_type": "code",
   "execution_count": 28,
   "metadata": {},
   "outputs": [
    {
     "data": {
      "text/plain": [
       "(121583,)"
      ]
     },
     "execution_count": 28,
     "metadata": {},
     "output_type": "execute_result"
    }
   ],
   "source": [
    "np.shape(labelsTrn)"
   ]
  },
  {
   "cell_type": "code",
   "execution_count": 29,
   "metadata": {},
   "outputs": [
    {
     "data": {
      "text/plain": [
       "(44125, 14, 40)"
      ]
     },
     "execution_count": 29,
     "metadata": {},
     "output_type": "execute_result"
    }
   ],
   "source": [
    "np.shape(imagesTst)"
   ]
  },
  {
   "cell_type": "code",
   "execution_count": 30,
   "metadata": {},
   "outputs": [
    {
     "data": {
      "text/plain": [
       "(44125,)"
      ]
     },
     "execution_count": 30,
     "metadata": {},
     "output_type": "execute_result"
    }
   ],
   "source": [
    "np.shape(labelsTst)"
   ]
  },
  {
   "cell_type": "code",
   "execution_count": 31,
   "metadata": {},
   "outputs": [],
   "source": [
    "imagesTrn = np.array(imagesTrn, dtype=np.float32)\n",
    "imagesTst = np.array(imagesTst, dtype=np.float32)"
   ]
  },
  {
   "cell_type": "code",
   "execution_count": 32,
   "metadata": {},
   "outputs": [],
   "source": [
    "labelsTrn = np.array(labelsTrn, dtype=np.int8)\n",
    "labelsTst = np.array(labelsTst, dtype=np.int8)"
   ]
  },
  {
   "cell_type": "markdown",
   "metadata": {},
   "source": [
    "## Store the calculated features & labels"
   ]
  },
  {
   "cell_type": "code",
   "execution_count": 37,
   "metadata": {},
   "outputs": [],
   "source": [
    "with h5py.File(\"timitdata.hdf5\", \"w\") as timitfeatures:\n",
    "    timitfeatures.create_dataset(\"imagesTrn\", (121583, 14, 40), data=imagesTrn)\n",
    "    timitfeatures.create_dataset(\"labelsTrn\", (121583,) , data=labelsTrn)\n",
    "    timitfeatures.create_dataset(\"imagesTst\", (44125, 14, 40), data=imagesTst)\n",
    "    timitfeatures.create_dataset(\"labelsTst\", (44125,) , data=labelsTst)\n",
    "timitfeatures.close()\n",
    "\n"
   ]
  },
  {
   "cell_type": "code",
   "execution_count": 38,
   "metadata": {},
   "outputs": [],
   "source": [
    "dfl = h5py.File(\"timitdata.hdf5\", \"r\")\n"
   ]
  },
  {
   "cell_type": "code",
   "execution_count": 39,
   "metadata": {},
   "outputs": [
    {
     "data": {
      "text/plain": [
       "<HDF5 dataset \"labelsTst\": shape (44125,), type \"|i1\">"
      ]
     },
     "execution_count": 39,
     "metadata": {},
     "output_type": "execute_result"
    }
   ],
   "source": [
    "dfl[\"labelsTst\"]"
   ]
  },
  {
   "cell_type": "code",
   "execution_count": 40,
   "metadata": {},
   "outputs": [],
   "source": [
    "dfl.close()"
   ]
  }
 ],
 "metadata": {
  "kernelspec": {
   "display_name": "Python 3",
   "language": "python",
   "name": "python3"
  },
  "language_info": {
   "codemirror_mode": {
    "name": "ipython",
    "version": 3
   },
   "file_extension": ".py",
   "mimetype": "text/x-python",
   "name": "python",
   "nbconvert_exporter": "python",
   "pygments_lexer": "ipython3",
   "version": "3.6.4"
  }
 },
 "nbformat": 4,
 "nbformat_minor": 2
}
