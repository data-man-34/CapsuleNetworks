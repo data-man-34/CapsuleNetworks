{
 "cells": [
  {
   "cell_type": "code",
   "execution_count": null,
   "metadata": {},
   "outputs": [],
   "source": []
  },
  {
   "cell_type": "markdown",
   "metadata": {},
   "source": [
    "# MNIST Dataset"
   ]
  },
  {
   "cell_type": "markdown",
   "metadata": {},
   "source": [
    "## Load and minibatch MNIST data"
   ]
  },
  {
   "cell_type": "code",
   "execution_count": 50,
   "metadata": {},
   "outputs": [],
   "source": [
    "using Knet   \n",
    "using Compat,GZip\n",
    "using Images, Plots"
   ]
  },
  {
   "cell_type": "code",
   "execution_count": 2,
   "metadata": {},
   "outputs": [
    {
     "data": {
      "text/plain": [
       "mnistdir"
      ]
     },
     "execution_count": 2,
     "metadata": {},
     "output_type": "execute_result"
    }
   ],
   "source": [
    "\"Where to download mnist from\"\n",
    "mnisturl = \"http://yann.lecun.com/exdb/mnist\"\n",
    "\n",
    "\"Where to download mnist to\"\n",
    "mnistdir = \"MNIST/\"\n"
   ]
  },
  {
   "cell_type": "code",
   "execution_count": null,
   "metadata": {},
   "outputs": [],
   "source": []
  },
  {
   "cell_type": "code",
   "execution_count": 3,
   "metadata": {},
   "outputs": [
    {
     "data": {
      "text/plain": [
       "gzload (generic function with 1 method)"
      ]
     },
     "execution_count": 3,
     "metadata": {},
     "output_type": "execute_result"
    }
   ],
   "source": [
    "function gzload(file; path=\"$file\", url=\"http://yann.lecun.com/exdb/mnist/$file\")\n",
    "    isfile(path) || download(url, path)\n",
    "    f = gzopen(path)\n",
    "    a = @compat read(f)\n",
    "    close(f)\n",
    "    return(a)\n",
    "end"
   ]
  },
  {
   "cell_type": "code",
   "execution_count": 4,
   "metadata": {},
   "outputs": [
    {
     "data": {
      "text/plain": [
       "loaddata (generic function with 1 method)"
      ]
     },
     "execution_count": 4,
     "metadata": {},
     "output_type": "execute_result"
    }
   ],
   "source": [
    "# That function is going to load raw data to the ram so that you will be able to use it\n",
    "function loaddata()\n",
    "    info(\"Loading MNIST...\")\n",
    "    # path = joinpath(mnistdir,file) etc.\n",
    "    xtrn = gzload(\"MNIST/train-images-idx3-ubyte.gz\")[17:end]\n",
    "    xtst = gzload(\"MNIST/t10k-images-idx3-ubyte.gz\")[17:end]\n",
    "    ytrn = gzload(\"MNIST/train-labels-idx1-ubyte.gz\")[9:end]\n",
    "    ytst = gzload(\"MNIST/t10k-labels-idx1-ubyte.gz\")[9:end]\n",
    "    return (xtrn, ytrn, xtst, ytst)\n",
    "end"
   ]
  },
  {
   "cell_type": "code",
   "execution_count": 5,
   "metadata": {},
   "outputs": [
    {
     "name": "stderr",
     "output_type": "stream",
     "text": [
      "\u001b[1m\u001b[36mINFO: \u001b[39m\u001b[22m\u001b[36mLoading MNIST...\n",
      "\u001b[39m"
     ]
    }
   ],
   "source": [
    "xtrnraw, ytrn, xtstraw, ytst = loaddata(); # These are raw data and not suitable to direct usage "
   ]
  },
  {
   "cell_type": "code",
   "execution_count": 6,
   "metadata": {},
   "outputs": [
    {
     "data": {
      "text/plain": [
       "mnistview (generic function with 1 method)"
      ]
     },
     "execution_count": 6,
     "metadata": {},
     "output_type": "execute_result"
    }
   ],
   "source": [
    "mnistview(x,i)=colorview(Gray,permutedims(x[:,:,1,i],(2,1)))"
   ]
  },
  {
   "cell_type": "code",
   "execution_count": 7,
   "metadata": {},
   "outputs": [],
   "source": [
    "xtrn = convert(Array{Float32}, reshape(xtrnraw ./ 255, (28,28,1, div(length(xtrnraw), 784))));\n",
    "xtst = convert(Array{Float32}, reshape(xtstraw ./ 255, (28,28,1, div(length(xtstraw), 784))));"
   ]
  },
  {
   "cell_type": "code",
   "execution_count": 8,
   "metadata": {},
   "outputs": [],
   "source": [
    "# We have 10 class classification 0 is represented as 10th class\n",
    "ytrn[ytrn.==0]=10;\n",
    "ytst[ytst.==0]=10;"
   ]
  },
  {
   "cell_type": "code",
   "execution_count": 9,
   "metadata": {},
   "outputs": [
    {
     "data": {
      "image/png": "[encoded data removed]",
      "text/plain": [
       "28×140 Array{Gray{Float32},2}:\n",
       " Gray{Float32}(0.0)  Gray{Float32}(0.0)  …  Gray{Float32}(0.0)\n",
       " Gray{Float32}(0.0)  Gray{Float32}(0.0)     Gray{Float32}(0.0)\n",
       " Gray{Float32}(0.0)  Gray{Float32}(0.0)     Gray{Float32}(0.0)\n",
       " Gray{Float32}(0.0)  Gray{Float32}(0.0)     Gray{Float32}(0.0)\n",
       " Gray{Float32}(0.0)  Gray{Float32}(0.0)     Gray{Float32}(0.0)\n",
       " Gray{Float32}(0.0)  Gray{Float32}(0.0)  …  Gray{Float32}(0.0)\n",
       " Gray{Float32}(0.0)  Gray{Float32}(0.0)     Gray{Float32}(0.0)\n",
       " Gray{Float32}(0.0)  Gray{Float32}(0.0)     Gray{Float32}(0.0)\n",
       " Gray{Float32}(0.0)  Gray{Float32}(0.0)     Gray{Float32}(0.0)\n",
       " Gray{Float32}(0.0)  Gray{Float32}(0.0)     Gray{Float32}(0.0)\n",
       " Gray{Float32}(0.0)  Gray{Float32}(0.0)  …  Gray{Float32}(0.0)\n",
       " Gray{Float32}(0.0)  Gray{Float32}(0.0)     Gray{Float32}(0.0)\n",
       " Gray{Float32}(0.0)  Gray{Float32}(0.0)     Gray{Float32}(0.0)\n",
       " ⋮                                       ⋱                    \n",
       " Gray{Float32}(0.0)  Gray{Float32}(0.0)     Gray{Float32}(0.0)\n",
       " Gray{Float32}(0.0)  Gray{Float32}(0.0)     Gray{Float32}(0.0)\n",
       " Gray{Float32}(0.0)  Gray{Float32}(0.0)     Gray{Float32}(0.0)\n",
       " Gray{Float32}(0.0)  Gray{Float32}(0.0)     Gray{Float32}(0.0)\n",
       " Gray{Float32}(0.0)  Gray{Float32}(0.0)  …  Gray{Float32}(0.0)\n",
       " Gray{Float32}(0.0)  Gray{Float32}(0.0)     Gray{Float32}(0.0)\n",
       " Gray{Float32}(0.0)  Gray{Float32}(0.0)     Gray{Float32}(0.0)\n",
       " Gray{Float32}(0.0)  Gray{Float32}(0.0)     Gray{Float32}(0.0)\n",
       " Gray{Float32}(0.0)  Gray{Float32}(0.0)     Gray{Float32}(0.0)\n",
       " Gray{Float32}(0.0)  Gray{Float32}(0.0)  …  Gray{Float32}(0.0)\n",
       " Gray{Float32}(0.0)  Gray{Float32}(0.0)     Gray{Float32}(0.0)\n",
       " Gray{Float32}(0.0)  Gray{Float32}(0.0)     Gray{Float32}(0.0)"
      ]
     },
     "execution_count": 9,
     "metadata": {},
     "output_type": "execute_result"
    }
   ],
   "source": [
    "hcat([mnistview(xtst,i) for i=1:5]...)"
   ]
  },
  {
   "cell_type": "code",
   "execution_count": 10,
   "metadata": {},
   "outputs": [
    {
     "data": {
      "text/plain": [
       "(UInt8[0x05 0x0a … 0x01 0x09], UInt8[0x07 0x02 … 0x0a 0x04])"
      ]
     },
     "execution_count": 10,
     "metadata": {},
     "output_type": "execute_result"
    }
   ],
   "source": [
    "ytrn[1:5]', ytst[1:5]'"
   ]
  },
  {
   "cell_type": "code",
   "execution_count": 11,
   "metadata": {},
   "outputs": [
    {
     "data": {
      "text/plain": [
       "0"
      ]
     },
     "execution_count": 11,
     "metadata": {},
     "output_type": "execute_result"
    }
   ],
   "source": [
    "gpu()"
   ]
  },
  {
   "cell_type": "code",
   "execution_count": 12,
   "metadata": {},
   "outputs": [
    {
     "data": {
      "text/plain": [
       "(600, 100)"
      ]
     },
     "execution_count": 12,
     "metadata": {},
     "output_type": "execute_result"
    }
   ],
   "source": [
    "Atype = gpu() >= 0 ? KnetArray{Float32} : Array{Float32}\n",
    "dtst = minibatch(xtst,ytst,100;xtype=Atype) # [ (x1,y1), (x2,y2), ... ] where xi,yi are minibatches of 100\n",
    "dtrn = minibatch(xtrn,ytrn,100;xtype=Atype) # [ (x1,y1), (x2,y2), ... ] where xi,yi are minibatches of 100\n",
    "length(dtrn),length(dtst)"
   ]
  },
  {
   "cell_type": "code",
   "execution_count": 13,
   "metadata": {},
   "outputs": [
    {
     "data": {
      "text/plain": [
       "(\"28×28×1×100 Knet.KnetArray{Float32,4}\", \"100-element Array{UInt8,1}\")"
      ]
     },
     "execution_count": 13,
     "metadata": {},
     "output_type": "execute_result"
    }
   ],
   "source": [
    "# Here is the first minibatch\n",
    "map(summary,first(dtst))  # (x,y) pair where x: 4-D Float32 array with X,Y,C,N  y: 1-D integer array"
   ]
  },
  {
   "cell_type": "code",
   "execution_count": 14,
   "metadata": {},
   "outputs": [
    {
     "data": {
      "text/plain": [
       "1×5 RowVector{UInt8,Array{UInt8,1}}:\n",
       " 0x07  0x02  0x01  0x0a  0x04"
      ]
     },
     "execution_count": 14,
     "metadata": {},
     "output_type": "execute_result"
    }
   ],
   "source": [
    "(x,y) = first(dtst);\n",
    "y[1:5]'"
   ]
  },
  {
   "cell_type": "code",
   "execution_count": 15,
   "metadata": {},
   "outputs": [
    {
     "data": {
      "text/plain": [
       "(::gradfun) (generic function with 1 method)"
      ]
     },
     "execution_count": 15,
     "metadata": {},
     "output_type": "execute_result"
    }
   ],
   "source": [
    "# Loss functions\n",
    "zeroone(w,data,model) = 1 - accuracy(w,data,model)\n",
    "softmax(w,data,model) = mean(softmax(w,x,y,model) for (x,y) in data)\n",
    "softmax(w,x,y,model; o...) = nll(model(w,x;o...),y)\n",
    "softgrad = grad(softmax)"
   ]
  },
  {
   "cell_type": "markdown",
   "metadata": {},
   "source": [
    "### Train MNIST using MLP with Dropout for a start!"
   ]
  },
  {
   "cell_type": "code",
   "execution_count": 16,
   "metadata": {},
   "outputs": [
    {
     "data": {
      "text/plain": [
       "mlpdrop (generic function with 1 method)"
      ]
     },
     "execution_count": 16,
     "metadata": {},
     "output_type": "execute_result"
    }
   ],
   "source": [
    "function mlpdrop(w,x; pdrop=(0,0))\n",
    "    x = mat(x)\n",
    "    x = dropout(x,pdrop[1])\n",
    "    for i=1:2:length(w)-2\n",
    "        x = relu.(w[i]*x .+ w[i+1])\n",
    "        x = dropout(x,pdrop[2])\n",
    "    end\n",
    "    return w[end-1]*x .+ w[end]\n",
    "end"
   ]
  },
  {
   "cell_type": "code",
   "execution_count": 17,
   "metadata": {},
   "outputs": [
    {
     "data": {
      "text/plain": [
       "winit (generic function with 1 method)"
      ]
     },
     "execution_count": 17,
     "metadata": {},
     "output_type": "execute_result"
    }
   ],
   "source": [
    "function winit(h...; std=0.01, x=784, y=10, atype=gpu()>=0 ? KnetArray{Float32} : Array{Float32})\n",
    "    h = [x, h..., y]   # use winit(h1,h2,...,hn) for n hidden layer mlp\n",
    "    w = Any[]\n",
    "    for i=1:length(h)-1\n",
    "        push!(w, std*randn(h[i+1],h[i]))\n",
    "        push!(w, zeros(h[i+1],1))\n",
    "    end\n",
    "    map(atype, w)\n",
    "end"
   ]
  },
  {
   "cell_type": "code",
   "execution_count": 18,
   "metadata": {},
   "outputs": [
    {
     "data": {
      "text/plain": [
       "4-element Array{Knet.KnetArray{Float32,2},1}:\n",
       " Knet.KnetArray{Float32,2}(Knet.KnetPtr(Ptr{Void} @0x00007f2097800000, 200704, 0, nothing), (64, 784))\n",
       " Knet.KnetArray{Float32,2}(Knet.KnetPtr(Ptr{Void} @0x00007f2097600000, 256, 0, nothing), (64, 1))     \n",
       " Knet.KnetArray{Float32,2}(Knet.KnetPtr(Ptr{Void} @0x00007f2097400000, 2560, 0, nothing), (10, 64))   \n",
       " Knet.KnetArray{Float32,2}(Knet.KnetPtr(Ptr{Void} @0x00007f2097600200, 40, 0, nothing), (10, 1))      "
      ]
     },
     "execution_count": 18,
     "metadata": {},
     "output_type": "execute_result"
    }
   ],
   "source": [
    "wts=winit(64) # gives weights and biases for an MLP with a single hidden layer of size 64"
   ]
  },
  {
   "cell_type": "code",
   "execution_count": 19,
   "metadata": {},
   "outputs": [
    {
     "data": {
      "text/plain": [
       "2.3024554f0"
      ]
     },
     "execution_count": 19,
     "metadata": {},
     "output_type": "execute_result"
    }
   ],
   "source": [
    "softmax(wts,x,y,mlpdrop)  # Average loss for a single (x,y) minibatch"
   ]
  },
  {
   "cell_type": "code",
   "execution_count": 20,
   "metadata": {},
   "outputs": [
    {
     "data": {
      "text/plain": [
       "2.3018637f0"
      ]
     },
     "execution_count": 20,
     "metadata": {},
     "output_type": "execute_result"
    }
   ],
   "source": [
    "softmax(wts,dtst,mlpdrop)  # Average loss for the whole test set"
   ]
  },
  {
   "cell_type": "code",
   "execution_count": 26,
   "metadata": {},
   "outputs": [
    {
     "data": {
      "text/plain": [
       "train (generic function with 1 method)"
      ]
     },
     "execution_count": 26,
     "metadata": {},
     "output_type": "execute_result"
    }
   ],
   "source": [
    "# Train model(w) with SGD and return a list containing w for every epoch\n",
    "function train(w,data,predict; epochs=50,lr=0.15,o...)\n",
    "    weights = Any[deepcopy(w)]\n",
    "    #opts = map(x->Sgd(lr=lr), w)#sgd with default learning rate\n",
    "    opts = map(x->Adam(), w)\n",
    "    for epoch in 1:epochs\n",
    "        for (x,y) in data\n",
    "            g = softgrad(w,x,y,predict;o...)\n",
    "            update!(w,g,opts)  # w[i] = w[i] - lr * g[i]\n",
    "        end\n",
    "        push!(weights,deepcopy(w))\n",
    "    end\n",
    "    return weights\n",
    "end"
   ]
  },
  {
   "cell_type": "code",
   "execution_count": 27,
   "metadata": {},
   "outputs": [
    {
     "name": "stdout",
     "output_type": "stream",
     "text": [
      " 18.323915 seconds (35.43 M allocations: 10.088 GiB, 4.00% gc time)\n",
      "  5.327736 seconds (5.34 M allocations: 9.145 GiB, 8.31% gc time)\n",
      "  0.910051 seconds (899.94 k allocations: 1.525 GiB, 8.41% gc time)\n",
      "  5.128382 seconds (5.18 M allocations: 9.406 GiB, 8.60% gc time)\n",
      "  0.895754 seconds (873.24 k allocations: 1.568 GiB, 8.67% gc time)\n"
     ]
    },
    {
     "data": {
      "text/plain": [
       "1×51 RowVector{Float64,Array{Float64,1}}:\n",
       " 0.8968  0.137  0.1077  0.0898  0.0743  …  0.0404  0.0387  0.0392  0.0372"
      ]
     },
     "execution_count": 27,
     "metadata": {},
     "output_type": "execute_result"
    }
   ],
   "source": [
    "srand(1)\n",
    "@time trn1=train(winit(48,16,x=784),dtrn,mlpdrop;epochs=50,lr=0.15,pdrop=(0.2,0))\n",
    "@time trnloss1 = [ softmax(w,dtrn,mlpdrop) for w in trn1 ]\n",
    "@time tstloss1 = [ softmax(w,dtst,mlpdrop) for w in trn1 ]\n",
    "@time trnerr1 = [ zeroone(w,dtrn,mlpdrop) for w in trn1 ]\n",
    "@time tsterr1 = [ zeroone(w,dtst,mlpdrop) for w in trn1 ]'\n"
   ]
  },
  {
   "cell_type": "code",
   "execution_count": 28,
   "metadata": {},
   "outputs": [
    {
     "data": {
      "text/plain": [
       "(0.005499999999999949, 0.03620000000000001)"
      ]
     },
     "execution_count": 28,
     "metadata": {},
     "output_type": "execute_result"
    }
   ],
   "source": [
    "minimum(trnerr1),minimum(tsterr1)"
   ]
  },
  {
   "cell_type": "markdown",
   "metadata": {},
   "source": [
    "### Train MNIST using the Baseline CNN Model Mentioned in Section 5 of the Paper"
   ]
  },
  {
   "cell_type": "code",
   "execution_count": 56,
   "metadata": {},
   "outputs": [],
   "source": [
    "function convnet(w,x; activation=(relu,relu), pdrop=(0,0,0))    # pdrop[1]:input, pdrop[2]:conv, pdrop[3]:fc\n",
    "    for i=1:2:length(w)\n",
    "        if ndims(w[i]) == 4     # convolutional layer\n",
    "            x = dropout(x, pdrop[i==1?1:2])\n",
    "            x = conv4(w[i], x, padding=1) .+ w[i+1]\n",
    "            x = pool(activation[1].(x))\n",
    "        elseif ndims(w[i]) == 2 # fully connected layer\n",
    "            if i == length(w)-1; x = dropout(x, pdrop[i==1?1:3]); end\n",
    "            # x = dropout(x, pdrop[i==1?1:3])  Hinton used dropout only in the final FC layer!\n",
    "            x = w[i]*mat(x) .+ w[i+1]\n",
    "            if i < length(w)-1; x = activation[2].(x); end\n",
    "        else\n",
    "            error(\"Unknown layer type: $(size(w[i]))\")\n",
    "        end\n",
    "    end\n",
    "    return x\n",
    "end;"
   ]
  },
  {
   "cell_type": "code",
   "execution_count": 57,
   "metadata": {},
   "outputs": [],
   "source": [
    "# Weight initialization for multiple layers\n",
    "# h[i] is an integer for a fully connected layer, a triple of integers for convolution filters\n",
    "# Output is an array [w0,b0,w1,b1,...,wn,bn] where wi,bi is the weight matrix/tensor and bias vector for the i'th layer\n",
    "function cinit(h...)  # use cinit(x,h1,h2,...,hn,y) for n hidden layer model\n",
    "    w = Any[]\n",
    "    x = h[1]\n",
    "    for i=2:length(h)\n",
    "        if isa(h[i],Tuple)\n",
    "            (x1,x2,cx) = x\n",
    "            (w1,w2,cy) = h[i]\n",
    "            push!(w, xavier(w1,w2,cx,cy))\n",
    "            push!(w, zeros(1,1,cy,1))\n",
    "            x = (div(x1-w1+1+2,2),div(x2-w2+1+2,2),cy) # assuming conv4 with p=0, s=1 and pool with p=0,w=s=2\n",
    "        elseif isa(h[i],Integer)\n",
    "            push!(w, xavier(h[i],prod(x)))\n",
    "            push!(w, zeros(h[i],1))\n",
    "            x = h[i]\n",
    "        else\n",
    "            error(\"Unknown layer type: $(h[i])\")\n",
    "        end\n",
    "    end\n",
    "    map(Atype, w)\n",
    "end;"
   ]
  },
  {
   "cell_type": "code",
   "execution_count": 59,
   "metadata": {},
   "outputs": [
    {
     "data": {
      "text/plain": [
       "2.3034813f0"
      ]
     },
     "execution_count": 59,
     "metadata": {},
     "output_type": "execute_result"
    }
   ],
   "source": [
    "(x,y) = first(dtst)\n",
    "softmax(cnnbase,x,y,convnet)"
   ]
  },
  {
   "cell_type": "code",
   "execution_count": 66,
   "metadata": {},
   "outputs": [
    {
     "data": {
      "text/plain": [
       "Plots.PlotlyBackend()"
      ]
     },
     "execution_count": 66,
     "metadata": {},
     "output_type": "execute_result"
    }
   ],
   "source": [
    "plotly()"
   ]
  },
  {
   "cell_type": "code",
   "execution_count": 82,
   "metadata": {},
   "outputs": [],
   "source": [
    "weights = trnloss = tstloss = trnerr = tsterr = nothing; knetgc()"
   ]
  },
  {
   "cell_type": "code",
   "execution_count": 83,
   "metadata": {},
   "outputs": [
    {
     "name": "stdout",
     "output_type": "stream",
     "text": [
      "622.107814 seconds (48.02 M allocations: 6.245 GiB, 22.21% gc time)\n",
      "228.280464 seconds (9.27 M allocations: 4.938 GiB, 31.78% gc time)\n",
      " 34.191367 seconds (1.55 M allocations: 843.287 MiB, 32.73% gc time)\n",
      "219.682575 seconds (9.19 M allocations: 5.071 GiB, 31.87% gc time)\n",
      " 40.914593 seconds (1.54 M allocations: 866.026 MiB, 30.44% gc time)\n"
     ]
    },
    {
     "data": {
      "text/plain": [
       "26-element Array{Float64,1}:\n",
       " 0.8965\n",
       " 0.0139\n",
       " 0.0093\n",
       " 0.0088\n",
       " 0.0093\n",
       " 0.0135\n",
       " 0.0071\n",
       " 0.0064\n",
       " 0.0073\n",
       " 0.0071\n",
       " 0.0075\n",
       " 0.0104\n",
       " 0.0065\n",
       " 0.0101\n",
       " 0.008 \n",
       " 0.0083\n",
       " 0.0089\n",
       " 0.0088\n",
       " 0.0091\n",
       " 0.0089\n",
       " 0.0082\n",
       " 0.0084\n",
       " 0.0066\n",
       " 0.0083\n",
       " 0.007 \n",
       " 0.0064"
      ]
     },
     "execution_count": 83,
     "metadata": {},
     "output_type": "execute_result"
    }
   ],
   "source": [
    "srand(1)\n",
    "cnnbase=cinit((28,28,1), (5,5,256), (5,5,256), (5,5,128), 328, 192, 10)\n",
    "@time weights=train(cnnbase,dtrn,convnet;epochs=25,lr=0.15,pdrop=(0,0,0.30))\n",
    "@time trnloss = [ softmax(w,dtrn,convnet) for w in weights ]\n",
    "@time tstloss = [ softmax(w,dtst,convnet) for w in weights ]\n",
    "@time trnerr = [ zeroone(w,dtrn,convnet) for w in weights ]\n",
    "@time tsterr = [ zeroone(w,dtst,convnet) for w in weights ]"
   ]
  },
  {
   "cell_type": "code",
   "execution_count": 84,
   "metadata": {},
   "outputs": [
    {
     "data": {
      "text/plain": [
       "(0.026876519f0, 0.006399999999999961)"
      ]
     },
     "execution_count": 84,
     "metadata": {},
     "output_type": "execute_result"
    }
   ],
   "source": [
    "minimum(tstloss),minimum(tsterr)"
   ]
  },
  {
   "cell_type": "code",
   "execution_count": 85,
   "metadata": {},
   "outputs": [
    {
     "data": {
      "application/vnd.plotly.v1+json": {
       "data": [
        {
         "colorbar": {
          "title": ""
         },
         "line": {
          "color": "rgba(0, 154, 250, 1.000)",
          "dash": "solid",
          "shape": "linear",
          "width": 1
         },
         "mode": "lines",
         "name": "trainErr",
         "showlegend": true,
         "type": "scatter",
         "x": [
          1,
          2,
          3,
          4,
          5,
          6,
          7,
          8,
          9,
          10,
          11,
          12,
          13,
          14,
          15,
          16,
          17,
          18,
          19,
          20,
          21,
          22,
          23,
          24,
          25,
          26
         ],
         "xaxis": "x1",
         "y": [
          0.8938,
          0.014449999999999963,
          0.007349999999999968,
          0.0058833333333333515,
          0.005616666666666714,
          0.008616666666666717,
          0.0026333333333333764,
          0.003066666666666662,
          0.0017333333333333645,
          0.0016500000000000403,
          0.002766666666666695,
          0.003349999999999964,
          0.0021499999999999853,
          0.004016666666666668,
          0.0011166666666666547,
          0.0016500000000000403,
          0.0018500000000000183,
          0.0010333333333333306,
          0.0015333333333333865,
          0.0015333333333333865,
          0.0005833333333333801,
          0.0009000000000000119,
          0.00039999999999995595,
          0.0008500000000000174,
          0.00046666666666661527,
          0.00014999999999998348
         ],
         "yaxis": "y1"
        },
        {
         "colorbar": {
          "title": ""
         },
         "line": {
          "color": "rgba(227, 111, 71, 1.000)",
          "dash": "solid",
          "shape": "linear",
          "width": 1
         },
         "mode": "lines",
         "name": "testErr",
         "showlegend": true,
         "type": "scatter",
         "x": [
          1,
          2,
          3,
          4,
          5,
          6,
          7,
          8,
          9,
          10,
          11,
          12,
          13,
          14,
          15,
          16,
          17,
          18,
          19,
          20,
          21,
          22,
          23,
          24,
          25,
          26
         ],
         "xaxis": "x1",
         "y": [
          0.8965,
          0.013900000000000023,
          0.009299999999999975,
          0.00880000000000003,
          0.009299999999999975,
          0.013499999999999956,
          0.007099999999999995,
          0.006399999999999961,
          0.007299999999999973,
          0.007099999999999995,
          0.007499999999999951,
          0.010399999999999965,
          0.00649999999999995,
          0.010099999999999998,
          0.008000000000000007,
          0.008299999999999974,
          0.008900000000000019,
          0.00880000000000003,
          0.009099999999999997,
          0.008900000000000019,
          0.008199999999999985,
          0.008399999999999963,
          0.00660000000000005,
          0.008299999999999974,
          0.007000000000000006,
          0.006399999999999961
         ],
         "yaxis": "y1"
        }
       ],
       "layout": {
        "annotations": [],
        "height": 400,
        "legend": {
         "bgcolor": "rgba(255, 255, 255, 1.000)",
         "bordercolor": "rgba(0, 0, 0, 1.000)",
         "font": {
          "color": "rgba(0, 0, 0, 1.000)",
          "family": "sans-serif",
          "size": 11
         },
         "x": 1,
         "y": 1
        },
        "margin": {
         "b": 20,
         "l": 0,
         "r": 0,
         "t": 20
        },
        "paper_bgcolor": "rgba(255, 255, 255, 1.000)",
        "plot_bgcolor": "rgba(255, 255, 255, 1.000)",
        "showlegend": true,
        "width": 600,
        "xaxis1": {
         "anchor": "y1",
         "domain": [
          0.09128390201224845,
          0.9934383202099738
         ],
         "gridcolor": "rgba(0, 0, 0, 0.100)",
         "gridwidth": 0.5,
         "linecolor": "rgba(0, 0, 0, 1.000)",
         "mirror": false,
         "range": [
          1,
          26
         ],
         "showgrid": true,
         "showline": true,
         "showticklabels": true,
         "tickangle": 0,
         "tickcolor": "rgb(0, 0, 0)",
         "tickfont": {
          "color": "rgba(0, 0, 0, 1.000)",
          "family": "sans-serif",
          "size": 11
         },
         "tickmode": "array",
         "ticks": "inside",
         "ticktext": [
          "5",
          "10",
          "15",
          "20",
          "25"
         ],
         "tickvals": [
          5,
          10,
          15,
          20,
          25
         ],
         "title": "Epochs",
         "titlefont": {
          "color": "rgba(0, 0, 0, 1.000)",
          "family": "sans-serif",
          "size": 15
         },
         "type": "-",
         "visible": true,
         "zeroline": false,
         "zerolinecolor": "rgba(0, 0, 0, 1.000)"
        },
        "yaxis1": {
         "anchor": "x1",
         "domain": [
          0.07581474190726165,
          0.9901574803149606
         ],
         "gridcolor": "rgba(0, 0, 0, 0.100)",
         "gridwidth": 0.5,
         "linecolor": "rgba(0, 0, 0, 1.000)",
         "mirror": false,
         "range": [
          0,
          0.05
         ],
         "showgrid": true,
         "showline": true,
         "showticklabels": true,
         "tickangle": 0,
         "tickcolor": "rgb(0, 0, 0)",
         "tickfont": {
          "color": "rgba(0, 0, 0, 1.000)",
          "family": "sans-serif",
          "size": 11
         },
         "tickmode": "array",
         "ticks": "inside",
         "ticktext": [
          "0.00",
          "0.01",
          "0.02",
          "0.03",
          "0.04",
          "0.05"
         ],
         "tickvals": [
          0,
          0.01,
          0.02,
          0.03,
          0.04,
          0.05
         ],
         "title": "Error with 20% dropout",
         "titlefont": {
          "color": "rgba(0, 0, 0, 1.000)",
          "family": "sans-serif",
          "size": 15
         },
         "type": "-",
         "visible": true,
         "zeroline": false,
         "zerolinecolor": "rgba(0, 0, 0, 1.000)"
        }
       }
      },
      "text/html": [
       "<script src=\"file:///home/tekno1/.julia/v0.6/Plots/src/backends/../../deps/plotly-latest.min.js\"></script>    <div id=\"d8222112-75b5-423a-8ac5-ff6a9c51430a\" style=\"width:600px;height:400px;\"></div>\n",
       "    <script>\n",
       "    PLOT = document.getElementById('d8222112-75b5-423a-8ac5-ff6a9c51430a');\n",
       "    Plotly.plot(PLOT, [{\"showlegend\":true,\"mode\":\"lines\",\"xaxis\":\"x1\",\"colorbar\":{\"title\":\"\"},\"line\":{\"color\":\"rgba(0, 154, 250, 1.000)\",\"shape\":\"linear\",\"dash\":\"solid\",\"width\":1},\"y\":[0.8938,0.014449999999999963,0.007349999999999968,0.0058833333333333515,0.005616666666666714,0.008616666666666717,0.0026333333333333764,0.003066666666666662,0.0017333333333333645,0.0016500000000000403,0.002766666666666695,0.003349999999999964,0.0021499999999999853,0.004016666666666668,0.0011166666666666547,0.0016500000000000403,0.0018500000000000183,0.0010333333333333306,0.0015333333333333865,0.0015333333333333865,0.0005833333333333801,0.0009000000000000119,0.00039999999999995595,0.0008500000000000174,0.00046666666666661527,0.00014999999999998348],\"type\":\"scatter\",\"name\":\"trainErr\",\"yaxis\":\"y1\",\"x\":[1,2,3,4,5,6,7,8,9,10,11,12,13,14,15,16,17,18,19,20,21,22,23,24,25,26]},{\"showlegend\":true,\"mode\":\"lines\",\"xaxis\":\"x1\",\"colorbar\":{\"title\":\"\"},\"line\":{\"color\":\"rgba(227, 111, 71, 1.000)\",\"shape\":\"linear\",\"dash\":\"solid\",\"width\":1},\"y\":[0.8965,0.013900000000000023,0.009299999999999975,0.00880000000000003,0.009299999999999975,0.013499999999999956,0.007099999999999995,0.006399999999999961,0.007299999999999973,0.007099999999999995,0.007499999999999951,0.010399999999999965,0.00649999999999995,0.010099999999999998,0.008000000000000007,0.008299999999999974,0.008900000000000019,0.00880000000000003,0.009099999999999997,0.008900000000000019,0.008199999999999985,0.008399999999999963,0.00660000000000005,0.008299999999999974,0.007000000000000006,0.006399999999999961],\"type\":\"scatter\",\"name\":\"testErr\",\"yaxis\":\"y1\",\"x\":[1,2,3,4,5,6,7,8,9,10,11,12,13,14,15,16,17,18,19,20,21,22,23,24,25,26]}], {\"showlegend\":true,\"paper_bgcolor\":\"rgba(255, 255, 255, 1.000)\",\"xaxis1\":{\"showticklabels\":true,\"gridwidth\":0.5,\"tickvals\":[5.0,10.0,15.0,20.0,25.0],\"visible\":true,\"ticks\":\"inside\",\"range\":[1.0,26.0],\"domain\":[0.09128390201224845,0.9934383202099738],\"tickmode\":\"array\",\"linecolor\":\"rgba(0, 0, 0, 1.000)\",\"showgrid\":true,\"title\":\"Epochs\",\"mirror\":false,\"tickangle\":0,\"showline\":true,\"gridcolor\":\"rgba(0, 0, 0, 0.100)\",\"titlefont\":{\"color\":\"rgba(0, 0, 0, 1.000)\",\"family\":\"sans-serif\",\"size\":15},\"tickcolor\":\"rgb(0, 0, 0)\",\"ticktext\":[\"5\",\"10\",\"15\",\"20\",\"25\"],\"zeroline\":false,\"type\":\"-\",\"tickfont\":{\"color\":\"rgba(0, 0, 0, 1.000)\",\"family\":\"sans-serif\",\"size\":11},\"zerolinecolor\":\"rgba(0, 0, 0, 1.000)\",\"anchor\":\"y1\"},\"annotations\":[],\"height\":400,\"margin\":{\"l\":0,\"b\":20,\"r\":0,\"t\":20},\"plot_bgcolor\":\"rgba(255, 255, 255, 1.000)\",\"yaxis1\":{\"showticklabels\":true,\"gridwidth\":0.5,\"tickvals\":[0.0,0.01,0.02,0.03,0.04,0.05],\"visible\":true,\"ticks\":\"inside\",\"range\":[0.0,0.05],\"domain\":[0.07581474190726165,0.9901574803149606],\"tickmode\":\"array\",\"linecolor\":\"rgba(0, 0, 0, 1.000)\",\"showgrid\":true,\"title\":\"Error with 20% dropout\",\"mirror\":false,\"tickangle\":0,\"showline\":true,\"gridcolor\":\"rgba(0, 0, 0, 0.100)\",\"titlefont\":{\"color\":\"rgba(0, 0, 0, 1.000)\",\"family\":\"sans-serif\",\"size\":15},\"tickcolor\":\"rgb(0, 0, 0)\",\"ticktext\":[\"0.00\",\"0.01\",\"0.02\",\"0.03\",\"0.04\",\"0.05\"],\"zeroline\":false,\"type\":\"-\",\"tickfont\":{\"color\":\"rgba(0, 0, 0, 1.000)\",\"family\":\"sans-serif\",\"size\":11},\"zerolinecolor\":\"rgba(0, 0, 0, 1.000)\",\"anchor\":\"x1\"},\"legend\":{\"bordercolor\":\"rgba(0, 0, 0, 1.000)\",\"bgcolor\":\"rgba(255, 255, 255, 1.000)\",\"font\":{\"color\":\"rgba(0, 0, 0, 1.000)\",\"family\":\"sans-serif\",\"size\":11},\"y\":1.0,\"x\":1.0},\"width\":600});\n",
       "    </script>\n"
      ]
     },
     "execution_count": 85,
     "metadata": {},
     "output_type": "execute_result"
    }
   ],
   "source": [
    "plot([trnerr tsterr],ylim=(0,0.05),\n",
    "    labels=[:trainErr :testErr],xlabel=\"Epochs\", ylabel=\"Error with 20% dropout\")  "
   ]
  },
  {
   "cell_type": "code",
   "execution_count": 86,
   "metadata": {},
   "outputs": [
    {
     "data": {
      "text/plain": [
       "26-element Array{Float64,1}:\n",
       " 0.8938     \n",
       " 0.01445    \n",
       " 0.00735    \n",
       " 0.00588333 \n",
       " 0.00561667 \n",
       " 0.00861667 \n",
       " 0.00263333 \n",
       " 0.00306667 \n",
       " 0.00173333 \n",
       " 0.00165    \n",
       " 0.00276667 \n",
       " 0.00335    \n",
       " 0.00215    \n",
       " 0.00401667 \n",
       " 0.00111667 \n",
       " 0.00165    \n",
       " 0.00185    \n",
       " 0.00103333 \n",
       " 0.00153333 \n",
       " 0.00153333 \n",
       " 0.000583333\n",
       " 0.0009     \n",
       " 0.0004     \n",
       " 0.00085    \n",
       " 0.000466667\n",
       " 0.00015    "
      ]
     },
     "execution_count": 86,
     "metadata": {},
     "output_type": "execute_result"
    }
   ],
   "source": [
    "trnerr"
   ]
  },
  {
   "cell_type": "code",
   "execution_count": null,
   "metadata": {},
   "outputs": [],
   "source": []
  },
  {
   "cell_type": "code",
   "execution_count": null,
   "metadata": {},
   "outputs": [],
   "source": []
  },
  {
   "cell_type": "markdown",
   "metadata": {},
   "source": [
    "# AffNIST Dataset"
   ]
  },
  {
   "cell_type": "code",
   "execution_count": null,
   "metadata": {},
   "outputs": [],
   "source": []
  },
  {
   "cell_type": "code",
   "execution_count": 25,
   "metadata": {},
   "outputs": [
    {
     "data": {
      "text/plain": [
       "affnistdir"
      ]
     },
     "execution_count": 25,
     "metadata": {},
     "output_type": "execute_result"
    }
   ],
   "source": [
    "\"Where to download affNIST from\"\n",
    "affnisturl = \"http://www.cs.toronto.edu/~tijmen/affNIST/32x/transformed/\"\n",
    "\n",
    "\"Where to download affNIST to\"\n",
    "affnistdir = \"affNIST/transformed/\""
   ]
  },
  {
   "cell_type": "code",
   "execution_count": 26,
   "metadata": {},
   "outputs": [],
   "source": [
    "using MAT"
   ]
  },
  {
   "cell_type": "code",
   "execution_count": 27,
   "metadata": {},
   "outputs": [
    {
     "data": {
      "text/plain": [
       "Dict{String,Any} with 1 entry:\n",
       "  \"affNISTdata\" => Dict{String,Any}(Pair{String,Any}(\"affNIST_id\", [1 2 … 9999 …"
      ]
     },
     "execution_count": 27,
     "metadata": {},
     "output_type": "execute_result"
    }
   ],
   "source": [
    "# There are 32 training, 32 test and 32 validation files. Each training file contains 50K images, and\n",
    "# Each test file contains 10K images, Only the first train and test files are read for now!\n",
    "trndata = matread(\"affNIST/transformed/training_batches/1.mat\")\n",
    "tstdata = matread(\"affNIST/transformed/test_batches/1.mat\")"
   ]
  },
  {
   "cell_type": "code",
   "execution_count": 28,
   "metadata": {},
   "outputs": [
    {
     "data": {
      "text/plain": [
       "Dict{String,Any} with 8 entries:\n",
       "  \"affNIST_id\"               => [1 2 … 49999 50000]\n",
       "  \"human_readable_transform\" => [11.0947 1.00285 … 5.41724 15.2066; -0.0137585 …\n",
       "  \"image\"                    => UInt8[0x00 0x00 … 0x00 0x00; 0x00 0x00 … 0x00 0…\n",
       "  \"label_int\"                => [0 1 … 6 5]\n",
       "  \"matrix_old_to_new\"        => [1.07717 0.815535 … 0.92776 0.9824; -0.226662 -…\n",
       "  \"matrix_new_to_old\"        => [0.891566 1.22425 … 1.07698 0.922488; 0.209849 …\n",
       "  \"original_id\"              => [1 2 … 49999 50000]\n",
       "  \"label_one_of_n\"           => Float32[1.0 0.0 … 0.0 0.0; 0.0 1.0 … 0.0 0.0; ……"
      ]
     },
     "execution_count": 28,
     "metadata": {},
     "output_type": "execute_result"
    }
   ],
   "source": [
    "trndata[\"affNISTdata\"]"
   ]
  },
  {
   "cell_type": "code",
   "execution_count": 29,
   "metadata": {},
   "outputs": [],
   "source": [
    "xtrnraw = trndata[\"affNISTdata\"][\"image\"];\n",
    "xtstraw = tstdata[\"affNISTdata\"][\"image\"];"
   ]
  },
  {
   "cell_type": "code",
   "execution_count": 30,
   "metadata": {},
   "outputs": [
    {
     "data": {
      "text/plain": [
       "([0 1 … 6 5], [0 1 … 2 1])"
      ]
     },
     "execution_count": 30,
     "metadata": {},
     "output_type": "execute_result"
    }
   ],
   "source": [
    "ytrn, ytst = trndata[\"affNISTdata\"][\"label_int\"], tstdata[\"affNISTdata\"][\"label_int\"]"
   ]
  },
  {
   "cell_type": "code",
   "execution_count": 31,
   "metadata": {},
   "outputs": [],
   "source": [
    "ytrn[ytrn.==0]=10;\n",
    "ytst[ytst.==0]=10;"
   ]
  },
  {
   "cell_type": "code",
   "execution_count": 32,
   "metadata": {},
   "outputs": [
    {
     "data": {
      "text/plain": [
       "(\"1600×50000 Array{UInt8,2}\", \"1600×10000 Array{UInt8,2}\")"
      ]
     },
     "execution_count": 32,
     "metadata": {},
     "output_type": "execute_result"
    }
   ],
   "source": [
    "map(summary,(xtrnraw,xtstraw))  # 50K + 10K 40x40 images stored in columns of size 1600"
   ]
  },
  {
   "cell_type": "code",
   "execution_count": 33,
   "metadata": {},
   "outputs": [],
   "source": [
    "xtrn = convert(Array{Float32}, reshape(xtrnraw ./ 255, (40,40,1, div(length(xtrnraw), 1600))));\n",
    "xtst = convert(Array{Float32}, reshape(xtstraw ./ 255, (40,40,1, div(length(xtstraw), 1600))));"
   ]
  },
  {
   "cell_type": "code",
   "execution_count": 34,
   "metadata": {},
   "outputs": [
    {
     "data": {
      "text/plain": [
       "(\"40×40×1×50000 Array{Float32,4}\", \"40×40×1×10000 Array{Float32,4}\")"
      ]
     },
     "execution_count": 34,
     "metadata": {},
     "output_type": "execute_result"
    }
   ],
   "source": [
    "map(summary,(xtrn,xtst))"
   ]
  },
  {
   "cell_type": "code",
   "execution_count": 41,
   "metadata": {},
   "outputs": [
    {
     "data": {
      "image/png": "[encoded data removed]",
      "text/plain": [
       "40×400 Array{Gray{Float32},2}:\n",
       " Gray{Float32}(0.0)  Gray{Float32}(0.0)  …  Gray{Float32}(0.0)\n",
       " Gray{Float32}(0.0)  Gray{Float32}(0.0)     Gray{Float32}(0.0)\n",
       " Gray{Float32}(0.0)  Gray{Float32}(0.0)     Gray{Float32}(0.0)\n",
       " Gray{Float32}(0.0)  Gray{Float32}(0.0)     Gray{Float32}(0.0)\n",
       " Gray{Float32}(0.0)  Gray{Float32}(0.0)     Gray{Float32}(0.0)\n",
       " Gray{Float32}(0.0)  Gray{Float32}(0.0)  …  Gray{Float32}(0.0)\n",
       " Gray{Float32}(0.0)  Gray{Float32}(0.0)     Gray{Float32}(0.0)\n",
       " Gray{Float32}(0.0)  Gray{Float32}(0.0)     Gray{Float32}(0.0)\n",
       " Gray{Float32}(0.0)  Gray{Float32}(0.0)     Gray{Float32}(0.0)\n",
       " Gray{Float32}(0.0)  Gray{Float32}(0.0)     Gray{Float32}(0.0)\n",
       " Gray{Float32}(0.0)  Gray{Float32}(0.0)  …  Gray{Float32}(0.0)\n",
       " Gray{Float32}(0.0)  Gray{Float32}(0.0)     Gray{Float32}(0.0)\n",
       " Gray{Float32}(0.0)  Gray{Float32}(0.0)     Gray{Float32}(0.0)\n",
       " ⋮                                       ⋱                    \n",
       " Gray{Float32}(0.0)  Gray{Float32}(0.0)     Gray{Float32}(0.0)\n",
       " Gray{Float32}(0.0)  Gray{Float32}(0.0)     Gray{Float32}(0.0)\n",
       " Gray{Float32}(0.0)  Gray{Float32}(0.0)  …  Gray{Float32}(0.0)\n",
       " Gray{Float32}(0.0)  Gray{Float32}(0.0)     Gray{Float32}(0.0)\n",
       " Gray{Float32}(0.0)  Gray{Float32}(0.0)     Gray{Float32}(0.0)\n",
       " Gray{Float32}(0.0)  Gray{Float32}(0.0)     Gray{Float32}(0.0)\n",
       " Gray{Float32}(0.0)  Gray{Float32}(0.0)     Gray{Float32}(0.0)\n",
       " Gray{Float32}(0.0)  Gray{Float32}(0.0)  …  Gray{Float32}(0.0)\n",
       " Gray{Float32}(0.0)  Gray{Float32}(0.0)     Gray{Float32}(0.0)\n",
       " Gray{Float32}(0.0)  Gray{Float32}(0.0)     Gray{Float32}(0.0)\n",
       " Gray{Float32}(0.0)  Gray{Float32}(0.0)     Gray{Float32}(0.0)\n",
       " Gray{Float32}(0.0)  Gray{Float32}(0.0)     Gray{Float32}(0.0)"
      ]
     },
     "execution_count": 41,
     "metadata": {},
     "output_type": "execute_result"
    }
   ],
   "source": [
    "hcat([mnistview(xtrn,i) for i=1:10]...)"
   ]
  },
  {
   "cell_type": "code",
   "execution_count": 42,
   "metadata": {},
   "outputs": [
    {
     "data": {
      "text/plain": [
       "1×10 RowVector{Int64,Array{Int64,1}}:\n",
       " 10  1  7  3  2  9  6  8  4  5"
      ]
     },
     "execution_count": 42,
     "metadata": {},
     "output_type": "execute_result"
    }
   ],
   "source": [
    "ytrn[1:10]'"
   ]
  },
  {
   "cell_type": "code",
   "execution_count": 43,
   "metadata": {},
   "outputs": [
    {
     "data": {
      "image/png": "[encoded data removed]",
      "text/plain": [
       "40×400 Array{Gray{Float32},2}:\n",
       " Gray{Float32}(0.0)  Gray{Float32}(0.0)  …  Gray{Float32}(0.0)\n",
       " Gray{Float32}(0.0)  Gray{Float32}(0.0)     Gray{Float32}(0.0)\n",
       " Gray{Float32}(0.0)  Gray{Float32}(0.0)     Gray{Float32}(0.0)\n",
       " Gray{Float32}(0.0)  Gray{Float32}(0.0)     Gray{Float32}(0.0)\n",
       " Gray{Float32}(0.0)  Gray{Float32}(0.0)     Gray{Float32}(0.0)\n",
       " Gray{Float32}(0.0)  Gray{Float32}(0.0)  …  Gray{Float32}(0.0)\n",
       " Gray{Float32}(0.0)  Gray{Float32}(0.0)     Gray{Float32}(0.0)\n",
       " Gray{Float32}(0.0)  Gray{Float32}(0.0)     Gray{Float32}(0.0)\n",
       " Gray{Float32}(0.0)  Gray{Float32}(0.0)     Gray{Float32}(0.0)\n",
       " Gray{Float32}(0.0)  Gray{Float32}(0.0)     Gray{Float32}(0.0)\n",
       " Gray{Float32}(0.0)  Gray{Float32}(0.0)  …  Gray{Float32}(0.0)\n",
       " Gray{Float32}(0.0)  Gray{Float32}(0.0)     Gray{Float32}(0.0)\n",
       " Gray{Float32}(0.0)  Gray{Float32}(0.0)     Gray{Float32}(0.0)\n",
       " ⋮                                       ⋱                    \n",
       " Gray{Float32}(0.0)  Gray{Float32}(0.0)     Gray{Float32}(0.0)\n",
       " Gray{Float32}(0.0)  Gray{Float32}(0.0)     Gray{Float32}(0.0)\n",
       " Gray{Float32}(0.0)  Gray{Float32}(0.0)  …  Gray{Float32}(0.0)\n",
       " Gray{Float32}(0.0)  Gray{Float32}(0.0)     Gray{Float32}(0.0)\n",
       " Gray{Float32}(0.0)  Gray{Float32}(0.0)     Gray{Float32}(0.0)\n",
       " Gray{Float32}(0.0)  Gray{Float32}(0.0)     Gray{Float32}(0.0)\n",
       " Gray{Float32}(0.0)  Gray{Float32}(0.0)     Gray{Float32}(0.0)\n",
       " Gray{Float32}(0.0)  Gray{Float32}(0.0)  …  Gray{Float32}(0.0)\n",
       " Gray{Float32}(0.0)  Gray{Float32}(0.0)     Gray{Float32}(0.0)\n",
       " Gray{Float32}(0.0)  Gray{Float32}(0.0)     Gray{Float32}(0.0)\n",
       " Gray{Float32}(0.0)  Gray{Float32}(0.0)     Gray{Float32}(0.0)\n",
       " Gray{Float32}(0.0)  Gray{Float32}(0.0)     Gray{Float32}(0.0)"
      ]
     },
     "execution_count": 43,
     "metadata": {},
     "output_type": "execute_result"
    }
   ],
   "source": [
    "hcat([mnistview(xtst,i) for i=1:10]...)"
   ]
  },
  {
   "cell_type": "code",
   "execution_count": 44,
   "metadata": {},
   "outputs": [
    {
     "data": {
      "text/plain": [
       "1×10 RowVector{Int64,Array{Int64,1}}:\n",
       " 10  1  2  7  3  9  4  8  6  5"
      ]
     },
     "execution_count": 44,
     "metadata": {},
     "output_type": "execute_result"
    }
   ],
   "source": [
    "ytst[1:10]'"
   ]
  },
  {
   "cell_type": "code",
   "execution_count": 45,
   "metadata": {},
   "outputs": [
    {
     "data": {
      "text/plain": [
       "(500, 100)"
      ]
     },
     "execution_count": 45,
     "metadata": {},
     "output_type": "execute_result"
    }
   ],
   "source": [
    "dtst = minibatch(xtst,ytst,100;xtype=Atype) # [ (x1,y1), (x2,y2), ... ] where xi,yi are minibatches of 100\n",
    "dtrn = minibatch(xtrn,ytrn,100;xtype=Atype) # [ (x1,y1), (x2,y2), ... ] where xi,yi are minibatches of 100\n",
    "length(dtrn),length(dtst)"
   ]
  },
  {
   "cell_type": "code",
   "execution_count": 46,
   "metadata": {},
   "outputs": [
    {
     "data": {
      "text/plain": [
       "(\"40×40×1×100 Knet.KnetArray{Float32,4}\", \"1×100 Array{Int64,2}\")"
      ]
     },
     "execution_count": 46,
     "metadata": {},
     "output_type": "execute_result"
    }
   ],
   "source": [
    "# Here is the first minibatch\n",
    "map(summary,first(dtst))  # (x,y) pair where x: 4-D Float32 array with X,Y,C,N  y: 1-D integer array"
   ]
  },
  {
   "cell_type": "code",
   "execution_count": 47,
   "metadata": {},
   "outputs": [
    {
     "data": {
      "text/plain": [
       "(Knet.KnetArray{Float32,4}(Knet.KnetPtr(Ptr{Void} @0x00007faad009c400, 640000, 0, nothing), (40, 40, 1, 100)), [10 1 … 8 6])"
      ]
     },
     "execution_count": 47,
     "metadata": {},
     "output_type": "execute_result"
    }
   ],
   "source": [
    "(x,y) = first(dtst)"
   ]
  },
  {
   "cell_type": "code",
   "execution_count": 48,
   "metadata": {},
   "outputs": [
    {
     "data": {
      "text/plain": [
       "4-element Array{Knet.KnetArray{Float32,2},1}:\n",
       " Knet.KnetArray{Float32,2}(Knet.KnetPtr(Ptr{Void} @0x00007faad0138800, 409600, 0, nothing), (64, 1600))\n",
       " Knet.KnetArray{Float32,2}(Knet.KnetPtr(Ptr{Void} @0x00007faacae74400, 256, 0, nothing), (64, 1))      \n",
       " Knet.KnetArray{Float32,2}(Knet.KnetPtr(Ptr{Void} @0x00007faacada6200, 2560, 0, nothing), (10, 64))    \n",
       " Knet.KnetArray{Float32,2}(Knet.KnetPtr(Ptr{Void} @0x00007faacae13c00, 40, 0, nothing), (10, 1))       "
      ]
     },
     "execution_count": 48,
     "metadata": {},
     "output_type": "execute_result"
    }
   ],
   "source": [
    "w2=winit(64,x=1600) # gives weights and biases for an MLP with a single hidden layer of size 64"
   ]
  },
  {
   "cell_type": "code",
   "execution_count": 49,
   "metadata": {},
   "outputs": [
    {
     "data": {
      "text/plain": [
       "2.303099f0"
      ]
     },
     "execution_count": 49,
     "metadata": {},
     "output_type": "execute_result"
    }
   ],
   "source": [
    "softmax(w2,x,y,mlpdrop)  # Average loss for a single (x,y) minibatch"
   ]
  },
  {
   "cell_type": "code",
   "execution_count": 50,
   "metadata": {},
   "outputs": [
    {
     "data": {
      "text/plain": [
       "2.302607f0"
      ]
     },
     "execution_count": 50,
     "metadata": {},
     "output_type": "execute_result"
    }
   ],
   "source": [
    "softmax(w2,dtst,mlpdrop)  # Average loss for the whole test set"
   ]
  },
  {
   "cell_type": "code",
   "execution_count": 51,
   "metadata": {},
   "outputs": [
    {
     "name": "stdout",
     "output_type": "stream",
     "text": [
      " 12.573039 seconds (20.51 M allocations: 15.798 GiB, 7.36% gc time)\n",
      "  7.161196 seconds (4.40 M allocations: 15.388 GiB, 10.11% gc time)\n",
      "  1.466424 seconds (889.79 k allocations: 3.078 GiB, 10.15% gc time)\n",
      "  7.129916 seconds (4.28 M allocations: 15.606 GiB, 10.39% gc time)\n",
      "  1.450018 seconds (862.25 k allocations: 3.122 GiB, 10.40% gc time)\n"
     ]
    },
    {
     "data": {
      "text/plain": [
       "1×51 RowVector{Float64,Array{Float64,1}}:\n",
       " 0.8994  0.8865  0.8051  0.7752  0.7285  …  0.3151  0.3136  0.3108  0.3175"
      ]
     },
     "execution_count": 51,
     "metadata": {},
     "output_type": "execute_result"
    }
   ],
   "source": [
    "srand(1)\n",
    "@time trn2=train(winit(48,16,x=1600),dtrn,mlpdrop;epochs=50,lr=0.15,pdrop=(0.2,0))\n",
    "@time trnloss2 = [ softmax(w,dtrn,mlpdrop) for w in trn2 ]\n",
    "@time tstloss2 = [ softmax(w,dtst,mlpdrop) for w in trn2 ]\n",
    "@time trnerr2 = [ zeroone(w,dtrn,mlpdrop) for w in trn2 ]\n",
    "@time tsterr2 = [ zeroone(w,dtst,mlpdrop) for w in trn2 ]'"
   ]
  },
  {
   "cell_type": "code",
   "execution_count": 52,
   "metadata": {},
   "outputs": [
    {
     "data": {
      "text/plain": [
       "(0.18123999999999996, 0.30510000000000004)"
      ]
     },
     "execution_count": 52,
     "metadata": {},
     "output_type": "execute_result"
    }
   ],
   "source": [
    "minimum(trnerr2),minimum(tsterr2)"
   ]
  },
  {
   "cell_type": "markdown",
   "metadata": {},
   "source": [
    "# CIFAR Dataset"
   ]
  },
  {
   "cell_type": "code",
   "execution_count": 53,
   "metadata": {},
   "outputs": [
    {
     "data": {
      "text/plain": [
       "cifardir"
      ]
     },
     "execution_count": 53,
     "metadata": {},
     "output_type": "execute_result"
    }
   ],
   "source": [
    "\"Where to download cifar from\"\n",
    "cifarurl = \"http://www.cs.toronto.edu/~kriz\"\n",
    "\n",
    "\"Where to download cifar to\"\n",
    "cifardir = \"CIFAR\""
   ]
  },
  {
   "cell_type": "code",
   "execution_count": 54,
   "metadata": {},
   "outputs": [
    {
     "data": {
      "text/plain": [
       "cifar10 (generic function with 1 method)"
      ]
     },
     "execution_count": 54,
     "metadata": {},
     "output_type": "execute_result"
    }
   ],
   "source": [
    "# cifar10() => (xtrn,ytrn,xtst,ytst,labels)\n",
    "function cifar10(; tgz=\"cifar-10-binary.tar.gz\", dir=\"cifar-10-batches-bin\",\n",
    "                 trn=[\"data_batch_$i.bin\" for i=1:5], tst=[\"test_batch.bin\"],\n",
    "                 lbl=\"batches.meta.txt\", )\n",
    "    global _cifar10_xtrn, _cifar10_ytrn, _cifar10_xtst, _cifar10_ytst, _cifar10_lbls\n",
    "    if !isdefined(:_cifar10_xtrn)\n",
    "        _cifar10_xtrn, _cifar10_ytrn, _cifar10_xtst, _cifar10_ytst, _cifar10_lbls = _cifar_read_tgz(tgz,dir,trn,tst,lbl)\n",
    "    end\n",
    "    return _cifar10_xtrn, _cifar10_ytrn, _cifar10_xtst, _cifar10_ytst, _cifar10_lbls\n",
    "end"
   ]
  },
  {
   "cell_type": "code",
   "execution_count": 55,
   "metadata": {},
   "outputs": [
    {
     "data": {
      "text/plain": [
       "_cifar_read_file (generic function with 1 method)"
      ]
     },
     "execution_count": 55,
     "metadata": {},
     "output_type": "execute_result"
    }
   ],
   "source": [
    "function _cifar_read_tgz(tgz,dir,trn,tst,labels)\n",
    "    info(\"Reading $tgz...\")\n",
    "    if !isdir(cifardir)\n",
    "        mkpath(cifardir)\n",
    "    end\n",
    "    dirpath = joinpath(cifardir,dir)\n",
    "    if !isdir(dirpath)\n",
    "        tgzpath = joinpath(cifardir,tgz)\n",
    "        if !isfile(tgzpath)\n",
    "            url = \"$cifarurl/$tgz\"\n",
    "            download(url, tgzpath)\n",
    "        end\n",
    "        run(`tar xzf $tgzpath -C $cifardir`)\n",
    "    end\n",
    "    xtrn,ytrn = _cifar_read_files(dirpath,trn)\n",
    "    xtst,ytst = _cifar_read_files(dirpath,tst)\n",
    "    lbls = readlines(joinpath(dirpath,labels))\n",
    "    return xtrn,ytrn,xtst,ytst,lbls\n",
    "end\n",
    "\n",
    "function _cifar_read_files(dir,files)\n",
    "    xs,ys = [],[]\n",
    "    for file in files\n",
    "        x,y = _cifar_read_file(dir,file)\n",
    "        push!(xs,x); push!(ys,y)\n",
    "    end\n",
    "    return cat(4, xs...), vcat(ys...)\n",
    "end\n",
    "\n",
    "function _cifar_read_file(dir,file)\n",
    "    a = read(joinpath(dir,file))\n",
    "    a = reshape(a, (3073, div(length(a),3073)))\n",
    "    y = a[1,:] + 0x1 # first row is Int8 index representation of correct answers\n",
    "    x = a[2:end,:] # rows 2:end give 32,32,3,N images\n",
    "    # y = full(sparse(y,1:length(y),1f0,10,length(y))) # one-hot vector representation\n",
    "    # maybe convert y to int?\n",
    "    x = reshape(x ./ 255f0, (32,32,3,div(length(x),3072)))\n",
    "    return (x,y)\n",
    "end"
   ]
  },
  {
   "cell_type": "code",
   "execution_count": 56,
   "metadata": {},
   "outputs": [
    {
     "name": "stderr",
     "output_type": "stream",
     "text": [
      "\u001b[1m\u001b[36mINFO: \u001b[39m\u001b[22m\u001b[36mReading cifar-10-binary.tar.gz...\n",
      "\u001b[39m"
     ]
    }
   ],
   "source": [
    "# The CIFAR-10 dataset consists of 60000 32x32 colour images in 10 classes, with 6000 images per class.\n",
    "# There are 50000 training images and 10000 test images.\n",
    "xtrn, ytrn, xtst, ytst, = cifar10();"
   ]
  },
  {
   "cell_type": "code",
   "execution_count": 57,
   "metadata": {},
   "outputs": [
    {
     "data": {
      "text/plain": [
       "cifarview (generic function with 1 method)"
      ]
     },
     "execution_count": 57,
     "metadata": {},
     "output_type": "execute_result"
    }
   ],
   "source": [
    "cifarview(x,i)=colorview(RGB,permutedims(x[:,:,:,i],(3,2,1)))"
   ]
  },
  {
   "cell_type": "code",
   "execution_count": 58,
   "metadata": {},
   "outputs": [
    {
     "data": {
      "image/png": "[encoded data removed]",
      "text/plain": [
       "32×288 Array{RGB{Float32},2}:\n",
       " RGB{Float32}(0.619608,0.439216,0.192157)  …  RGB{Float32}(0.772549,0.592157,0.470588)\n",
       " RGB{Float32}(0.596078,0.439216,0.2)          RGB{Float32}(0.792157,0.639216,0.501961)\n",
       " RGB{Float32}(0.592157,0.431373,0.184314)     RGB{Float32}(0.807843,0.65098,0.517647) \n",
       " RGB{Float32}(0.607843,0.419608,0.156863)     RGB{Float32}(0.839216,0.670588,0.556863)\n",
       " RGB{Float32}(0.607843,0.419608,0.160784)     RGB{Float32}(0.807843,0.67451,0.576471) \n",
       " RGB{Float32}(0.580392,0.427451,0.211765)  …  RGB{Float32}(0.827451,0.760784,0.662745)\n",
       " RGB{Float32}(0.498039,0.392157,0.223529)     RGB{Float32}(0.878431,0.854902,0.760784)\n",
       " RGB{Float32}(0.513726,0.45098,0.352941)      RGB{Float32}(0.898039,0.886275,0.803922)\n",
       " RGB{Float32}(0.666667,0.631373,0.564706)     RGB{Float32}(0.917647,0.909804,0.823529)\n",
       " RGB{Float32}(0.705882,0.690196,0.639216)     RGB{Float32}(0.921569,0.921569,0.811765)\n",
       " RGB{Float32}(0.717647,0.717647,0.686275)  …  RGB{Float32}(0.866667,0.878431,0.729412)\n",
       " RGB{Float32}(0.737255,0.74902,0.741176)      RGB{Float32}(0.768627,0.792157,0.611765)\n",
       " RGB{Float32}(0.741176,0.760784,0.760784)     RGB{Float32}(0.752941,0.780392,0.596078)\n",
       " ⋮                                         ⋱                                          \n",
       " RGB{Float32}(0.647059,0.611765,0.572549)  …  RGB{Float32}(0.654902,0.603922,0.509804)\n",
       " RGB{Float32}(0.458824,0.470588,0.486275)     RGB{Float32}(0.560784,0.490196,0.423529)\n",
       " RGB{Float32}(0.309804,0.411765,0.521569)     RGB{Float32}(0.490196,0.415686,0.356863)\n",
       " RGB{Float32}(0.160784,0.34902,0.529412)      RGB{Float32}(0.537255,0.462745,0.407843)\n",
       " RGB{Float32}(0.113725,0.356863,0.552941)     RGB{Float32}(0.564706,0.486275,0.435294)\n",
       " RGB{Float32}(0.188235,0.435294,0.635294)  …  RGB{Float32}(0.513726,0.439216,0.384314)\n",
       " RGB{Float32}(0.203922,0.447059,0.647059)     RGB{Float32}(0.576471,0.501961,0.447059)\n",
       " RGB{Float32}(0.196078,0.431373,0.635294)     RGB{Float32}(0.611765,0.537255,0.482353)\n",
       " RGB{Float32}(0.196078,0.423529,0.631373)     RGB{Float32}(0.576471,0.505882,0.45098) \n",
       " RGB{Float32}(0.266667,0.486275,0.694118)     RGB{Float32}(0.552941,0.482353,0.431373)\n",
       " RGB{Float32}(0.239216,0.454902,0.658824)  …  RGB{Float32}(0.596078,0.52549,0.466667) \n",
       " RGB{Float32}(0.211765,0.419608,0.627451)     RGB{Float32}(0.588235,0.517647,0.462745)"
      ]
     },
     "execution_count": 58,
     "metadata": {},
     "output_type": "execute_result"
    }
   ],
   "source": [
    "hcat([cifarview(xtst,i) for i=1:9]...)"
   ]
  },
  {
   "cell_type": "code",
   "execution_count": 59,
   "metadata": {},
   "outputs": [
    {
     "data": {
      "text/plain": [
       "1×9 RowVector{UInt8,Array{UInt8,1}}:\n",
       " 0x04  0x09  0x09  0x01  0x07  0x07  0x02  0x07  0x04"
      ]
     },
     "execution_count": 59,
     "metadata": {},
     "output_type": "execute_result"
    }
   ],
   "source": [
    "# CLASSES are 1:airplane, 2:automobile, 3:bird, 4:cat, 5:deer, 6:dog, 7:frog, 8:horse, 9:ship, 10:truck\n",
    "ytst[1:9]'"
   ]
  },
  {
   "cell_type": "code",
   "execution_count": 60,
   "metadata": {},
   "outputs": [
    {
     "data": {
      "text/plain": [
       "(500, 100)"
      ]
     },
     "execution_count": 60,
     "metadata": {},
     "output_type": "execute_result"
    }
   ],
   "source": [
    "dtst = minibatch(xtst,ytst,100;xtype=Atype) # [ (x1,y1), (x2,y2), ... ] where xi,yi are minibatches of 100\n",
    "dtrn = minibatch(xtrn,ytrn,100;xtype=Atype) # [ (x1,y1), (x2,y2), ... ] where xi,yi are minibatches of 100\n",
    "length(dtrn),length(dtst)"
   ]
  },
  {
   "cell_type": "code",
   "execution_count": 61,
   "metadata": {},
   "outputs": [
    {
     "data": {
      "text/plain": [
       "(\"32×32×3×100 Knet.KnetArray{Float32,4}\", \"100-element Array{UInt8,1}\")"
      ]
     },
     "execution_count": 61,
     "metadata": {},
     "output_type": "execute_result"
    }
   ],
   "source": [
    "# Here is the first minibatch\n",
    "map(summary,first(dtst))  # (x,y) pair where x: 4-D Float32 array with X,Y,C,N  y: 1-D integer array"
   ]
  },
  {
   "cell_type": "code",
   "execution_count": 62,
   "metadata": {},
   "outputs": [
    {
     "data": {
      "text/plain": [
       "(Knet.KnetArray{Float32,4}(Knet.KnetPtr(Ptr{Void} @0x00007faaa4800000, 1228800, 0, nothing), (32, 32, 3, 100)), UInt8[0x04, 0x09, 0x09, 0x01, 0x07, 0x07, 0x02, 0x07, 0x04, 0x02  …  0x01, 0x04, 0x09, 0x07, 0x05, 0x07, 0x07, 0x01, 0x01, 0x08])"
      ]
     },
     "execution_count": 62,
     "metadata": {},
     "output_type": "execute_result"
    }
   ],
   "source": [
    "(x,y) = first(dtst)"
   ]
  },
  {
   "cell_type": "code",
   "execution_count": 63,
   "metadata": {},
   "outputs": [
    {
     "data": {
      "text/plain": [
       "(\"32×32×3×100 Knet.KnetArray{Float32,4}\", \"100-element Array{UInt8,1}\")"
      ]
     },
     "execution_count": 63,
     "metadata": {},
     "output_type": "execute_result"
    }
   ],
   "source": [
    "map(summary,(x,y))"
   ]
  },
  {
   "cell_type": "code",
   "execution_count": 64,
   "metadata": {},
   "outputs": [
    {
     "data": {
      "text/plain": [
       "4-element Array{Knet.KnetArray{Float32,2},1}:\n",
       " Knet.KnetArray{Float32,2}(Knet.KnetPtr(Ptr{Void} @0x00007faaa492c000, 786432, 0, nothing), (64, 3072))\n",
       " Knet.KnetArray{Float32,2}(Knet.KnetPtr(Ptr{Void} @0x00007faacae80600, 256, 0, nothing), (64, 1))      \n",
       " Knet.KnetArray{Float32,2}(Knet.KnetPtr(Ptr{Void} @0x00007faacadb5000, 2560, 0, nothing), (10, 64))    \n",
       " Knet.KnetArray{Float32,2}(Knet.KnetPtr(Ptr{Void} @0x00007faacae53c00, 40, 0, nothing), (10, 1))       "
      ]
     },
     "execution_count": 64,
     "metadata": {},
     "output_type": "execute_result"
    }
   ],
   "source": [
    "w2=winit(64, x=32*32*3) # gives weights and biases for an MLP with a single hidden layer of size 64"
   ]
  },
  {
   "cell_type": "code",
   "execution_count": 65,
   "metadata": {},
   "outputs": [
    {
     "data": {
      "text/plain": [
       "2.3048408f0"
      ]
     },
     "execution_count": 65,
     "metadata": {},
     "output_type": "execute_result"
    }
   ],
   "source": [
    "softmax(w2,x,y,mlpdrop)  # Average loss for a single (x,y) minibatch"
   ]
  },
  {
   "cell_type": "code",
   "execution_count": 66,
   "metadata": {},
   "outputs": [
    {
     "data": {
      "text/plain": [
       "2.3027565f0"
      ]
     },
     "execution_count": 66,
     "metadata": {},
     "output_type": "execute_result"
    }
   ],
   "source": [
    "softmax(w2,dtst,mlpdrop)  # Average loss for the whole test set"
   ]
  },
  {
   "cell_type": "code",
   "execution_count": 67,
   "metadata": {},
   "outputs": [
    {
     "name": "stdout",
     "output_type": "stream",
     "text": [
      " 16.679536 seconds (20.55 M allocations: 29.493 GiB, 9.09% gc time)\n",
      " 12.233638 seconds (4.45 M allocations: 29.356 GiB, 11.06% gc time)\n",
      "  2.533214 seconds (899.50 k allocations: 5.872 GiB, 11.22% gc time)\n",
      " 12.074564 seconds (4.32 M allocations: 29.573 GiB, 11.31% gc time)\n",
      "  2.449884 seconds (872.98 k allocations: 5.915 GiB, 11.45% gc time)\n"
     ]
    },
    {
     "data": {
      "text/plain": [
       "1×51 RowVector{Float64,Array{Float64,1}}:\n",
       " 0.8965  0.8054  0.7083  0.639  0.6182  …  0.5441  0.5347  0.5371  0.5437"
      ]
     },
     "execution_count": 67,
     "metadata": {},
     "output_type": "execute_result"
    }
   ],
   "source": [
    "srand(1)\n",
    "@time trn3=train(winit(48,16,x=32*32*3),dtrn,mlpdrop;epochs=50,lr=0.15,pdrop=(0.2,0))\n",
    "@time trnloss3 = [ softmax(w,dtrn,mlpdrop) for w in trn3 ]\n",
    "@time tstloss3 = [ softmax(w,dtst,mlpdrop) for w in trn3 ]\n",
    "@time trnerr3 = [ zeroone(w,dtrn,mlpdrop) for w in trn3 ]\n",
    "@time tsterr3 = [ zeroone(w,dtst,mlpdrop) for w in trn3 ]'"
   ]
  },
  {
   "cell_type": "code",
   "execution_count": 68,
   "metadata": {},
   "outputs": [
    {
     "data": {
      "text/plain": [
       "(0.48412, 0.5284)"
      ]
     },
     "execution_count": 68,
     "metadata": {},
     "output_type": "execute_result"
    }
   ],
   "source": [
    "minimum(trnerr3),minimum(tsterr3)"
   ]
  },
  {
   "cell_type": "code",
   "execution_count": null,
   "metadata": {},
   "outputs": [],
   "source": []
  },
  {
   "cell_type": "code",
   "execution_count": null,
   "metadata": {},
   "outputs": [],
   "source": []
  },
  {
   "cell_type": "code",
   "execution_count": null,
   "metadata": {},
   "outputs": [],
   "source": []
  }
 ],
 "metadata": {
  "kernelspec": {
   "display_name": "Julia 0.6.2",
   "language": "julia",
   "name": "julia-0.6"
  },
  "language_info": {
   "file_extension": ".jl",
   "mimetype": "application/julia",
   "name": "julia",
   "version": "0.6.2"
  }
 },
 "nbformat": 4,
 "nbformat_minor": 1
}
